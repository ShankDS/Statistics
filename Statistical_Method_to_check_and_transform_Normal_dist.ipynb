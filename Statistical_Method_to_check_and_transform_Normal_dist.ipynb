{
  "nbformat": 4,
  "nbformat_minor": 0,
  "metadata": {
    "colab": {
      "name": "Statistical Method to check and transform Normal dist.ipynb",
      "provenance": []
    },
    "kernelspec": {
      "name": "python3",
      "display_name": "Python 3"
    },
    "language_info": {
      "name": "python"
    }
  },
  "cells": [
    {
      "cell_type": "code",
      "execution_count": null,
      "metadata": {
        "id": "UzEbNopdtpK4"
      },
      "outputs": [],
      "source": [
        "import pandas as pd\n",
        "import numpy as np\n",
        "import matplotlib.pyplot as plt\n",
        "%matplotlib inline\n",
        "import seaborn as sns"
      ]
    },
    {
      "cell_type": "code",
      "source": [
        "df = pd.read_csv(r'/content/drive/MyDrive/CO2 Emissions_Canada.csv')\n",
        "df.head()"
      ],
      "metadata": {
        "colab": {
          "base_uri": "https://localhost:8080/",
          "height": 374
        },
        "id": "riaLCUGJuM5c",
        "outputId": "28986b4c-23e5-4749-8b7b-5cfd5bd75c84"
      },
      "execution_count": null,
      "outputs": [
        {
          "output_type": "execute_result",
          "data": {
            "text/html": [
              "\n",
              "  <div id=\"df-78b45dde-1727-49e5-adbb-8c75a4257c20\">\n",
              "    <div class=\"colab-df-container\">\n",
              "      <div>\n",
              "<style scoped>\n",
              "    .dataframe tbody tr th:only-of-type {\n",
              "        vertical-align: middle;\n",
              "    }\n",
              "\n",
              "    .dataframe tbody tr th {\n",
              "        vertical-align: top;\n",
              "    }\n",
              "\n",
              "    .dataframe thead th {\n",
              "        text-align: right;\n",
              "    }\n",
              "</style>\n",
              "<table border=\"1\" class=\"dataframe\">\n",
              "  <thead>\n",
              "    <tr style=\"text-align: right;\">\n",
              "      <th></th>\n",
              "      <th>Make</th>\n",
              "      <th>Model</th>\n",
              "      <th>Vehicle Class</th>\n",
              "      <th>Engine Size(L)</th>\n",
              "      <th>Cylinders</th>\n",
              "      <th>Transmission</th>\n",
              "      <th>Fuel Type</th>\n",
              "      <th>Fuel Consumption City (L/100 km)</th>\n",
              "      <th>Fuel Consumption Hwy (L/100 km)</th>\n",
              "      <th>Fuel Consumption Comb (L/100 km)</th>\n",
              "      <th>Fuel Consumption Comb (mpg)</th>\n",
              "      <th>CO2 Emissions(g/km)</th>\n",
              "    </tr>\n",
              "  </thead>\n",
              "  <tbody>\n",
              "    <tr>\n",
              "      <th>0</th>\n",
              "      <td>ACURA</td>\n",
              "      <td>ILX</td>\n",
              "      <td>COMPACT</td>\n",
              "      <td>2.0</td>\n",
              "      <td>4</td>\n",
              "      <td>AS5</td>\n",
              "      <td>Z</td>\n",
              "      <td>9.9</td>\n",
              "      <td>6.7</td>\n",
              "      <td>8.5</td>\n",
              "      <td>33</td>\n",
              "      <td>196</td>\n",
              "    </tr>\n",
              "    <tr>\n",
              "      <th>1</th>\n",
              "      <td>ACURA</td>\n",
              "      <td>ILX</td>\n",
              "      <td>COMPACT</td>\n",
              "      <td>2.4</td>\n",
              "      <td>4</td>\n",
              "      <td>M6</td>\n",
              "      <td>Z</td>\n",
              "      <td>11.2</td>\n",
              "      <td>7.7</td>\n",
              "      <td>9.6</td>\n",
              "      <td>29</td>\n",
              "      <td>221</td>\n",
              "    </tr>\n",
              "    <tr>\n",
              "      <th>2</th>\n",
              "      <td>ACURA</td>\n",
              "      <td>ILX HYBRID</td>\n",
              "      <td>COMPACT</td>\n",
              "      <td>1.5</td>\n",
              "      <td>4</td>\n",
              "      <td>AV7</td>\n",
              "      <td>Z</td>\n",
              "      <td>6.0</td>\n",
              "      <td>5.8</td>\n",
              "      <td>5.9</td>\n",
              "      <td>48</td>\n",
              "      <td>136</td>\n",
              "    </tr>\n",
              "    <tr>\n",
              "      <th>3</th>\n",
              "      <td>ACURA</td>\n",
              "      <td>MDX 4WD</td>\n",
              "      <td>SUV - SMALL</td>\n",
              "      <td>3.5</td>\n",
              "      <td>6</td>\n",
              "      <td>AS6</td>\n",
              "      <td>Z</td>\n",
              "      <td>12.7</td>\n",
              "      <td>9.1</td>\n",
              "      <td>11.1</td>\n",
              "      <td>25</td>\n",
              "      <td>255</td>\n",
              "    </tr>\n",
              "    <tr>\n",
              "      <th>4</th>\n",
              "      <td>ACURA</td>\n",
              "      <td>RDX AWD</td>\n",
              "      <td>SUV - SMALL</td>\n",
              "      <td>3.5</td>\n",
              "      <td>6</td>\n",
              "      <td>AS6</td>\n",
              "      <td>Z</td>\n",
              "      <td>12.1</td>\n",
              "      <td>8.7</td>\n",
              "      <td>10.6</td>\n",
              "      <td>27</td>\n",
              "      <td>244</td>\n",
              "    </tr>\n",
              "  </tbody>\n",
              "</table>\n",
              "</div>\n",
              "      <button class=\"colab-df-convert\" onclick=\"convertToInteractive('df-78b45dde-1727-49e5-adbb-8c75a4257c20')\"\n",
              "              title=\"Convert this dataframe to an interactive table.\"\n",
              "              style=\"display:none;\">\n",
              "        \n",
              "  <svg xmlns=\"http://www.w3.org/2000/svg\" height=\"24px\"viewBox=\"0 0 24 24\"\n",
              "       width=\"24px\">\n",
              "    <path d=\"M0 0h24v24H0V0z\" fill=\"none\"/>\n",
              "    <path d=\"M18.56 5.44l.94 2.06.94-2.06 2.06-.94-2.06-.94-.94-2.06-.94 2.06-2.06.94zm-11 1L8.5 8.5l.94-2.06 2.06-.94-2.06-.94L8.5 2.5l-.94 2.06-2.06.94zm10 10l.94 2.06.94-2.06 2.06-.94-2.06-.94-.94-2.06-.94 2.06-2.06.94z\"/><path d=\"M17.41 7.96l-1.37-1.37c-.4-.4-.92-.59-1.43-.59-.52 0-1.04.2-1.43.59L10.3 9.45l-7.72 7.72c-.78.78-.78 2.05 0 2.83L4 21.41c.39.39.9.59 1.41.59.51 0 1.02-.2 1.41-.59l7.78-7.78 2.81-2.81c.8-.78.8-2.07 0-2.86zM5.41 20L4 18.59l7.72-7.72 1.47 1.35L5.41 20z\"/>\n",
              "  </svg>\n",
              "      </button>\n",
              "      \n",
              "  <style>\n",
              "    .colab-df-container {\n",
              "      display:flex;\n",
              "      flex-wrap:wrap;\n",
              "      gap: 12px;\n",
              "    }\n",
              "\n",
              "    .colab-df-convert {\n",
              "      background-color: #E8F0FE;\n",
              "      border: none;\n",
              "      border-radius: 50%;\n",
              "      cursor: pointer;\n",
              "      display: none;\n",
              "      fill: #1967D2;\n",
              "      height: 32px;\n",
              "      padding: 0 0 0 0;\n",
              "      width: 32px;\n",
              "    }\n",
              "\n",
              "    .colab-df-convert:hover {\n",
              "      background-color: #E2EBFA;\n",
              "      box-shadow: 0px 1px 2px rgba(60, 64, 67, 0.3), 0px 1px 3px 1px rgba(60, 64, 67, 0.15);\n",
              "      fill: #174EA6;\n",
              "    }\n",
              "\n",
              "    [theme=dark] .colab-df-convert {\n",
              "      background-color: #3B4455;\n",
              "      fill: #D2E3FC;\n",
              "    }\n",
              "\n",
              "    [theme=dark] .colab-df-convert:hover {\n",
              "      background-color: #434B5C;\n",
              "      box-shadow: 0px 1px 3px 1px rgba(0, 0, 0, 0.15);\n",
              "      filter: drop-shadow(0px 1px 2px rgba(0, 0, 0, 0.3));\n",
              "      fill: #FFFFFF;\n",
              "    }\n",
              "  </style>\n",
              "\n",
              "      <script>\n",
              "        const buttonEl =\n",
              "          document.querySelector('#df-78b45dde-1727-49e5-adbb-8c75a4257c20 button.colab-df-convert');\n",
              "        buttonEl.style.display =\n",
              "          google.colab.kernel.accessAllowed ? 'block' : 'none';\n",
              "\n",
              "        async function convertToInteractive(key) {\n",
              "          const element = document.querySelector('#df-78b45dde-1727-49e5-adbb-8c75a4257c20');\n",
              "          const dataTable =\n",
              "            await google.colab.kernel.invokeFunction('convertToInteractive',\n",
              "                                                     [key], {});\n",
              "          if (!dataTable) return;\n",
              "\n",
              "          const docLinkHtml = 'Like what you see? Visit the ' +\n",
              "            '<a target=\"_blank\" href=https://colab.research.google.com/notebooks/data_table.ipynb>data table notebook</a>'\n",
              "            + ' to learn more about interactive tables.';\n",
              "          element.innerHTML = '';\n",
              "          dataTable['output_type'] = 'display_data';\n",
              "          await google.colab.output.renderOutput(dataTable, element);\n",
              "          const docLink = document.createElement('div');\n",
              "          docLink.innerHTML = docLinkHtml;\n",
              "          element.appendChild(docLink);\n",
              "        }\n",
              "      </script>\n",
              "    </div>\n",
              "  </div>\n",
              "  "
            ],
            "text/plain": [
              "    Make       Model  ... Fuel Consumption Comb (mpg)  CO2 Emissions(g/km)\n",
              "0  ACURA         ILX  ...                          33                  196\n",
              "1  ACURA         ILX  ...                          29                  221\n",
              "2  ACURA  ILX HYBRID  ...                          48                  136\n",
              "3  ACURA     MDX 4WD  ...                          25                  255\n",
              "4  ACURA     RDX AWD  ...                          27                  244\n",
              "\n",
              "[5 rows x 12 columns]"
            ]
          },
          "metadata": {},
          "execution_count": 4
        }
      ]
    },
    {
      "cell_type": "code",
      "source": [
        "import warnings \n",
        "warnings.simplefilter(action='ignore', category=FutureWarning)\n",
        "from scipy import stats\n",
        "import statsmodels.api as sm"
      ],
      "metadata": {
        "id": "HDtx2Ju2uVHb"
      },
      "execution_count": null,
      "outputs": []
    },
    {
      "cell_type": "code",
      "source": [
        "sns.distplot(df['Fuel Consumption City (L/100 km)'],hist=True,hist_kws=dict(ec='k'))"
      ],
      "metadata": {
        "colab": {
          "base_uri": "https://localhost:8080/",
          "height": 297
        },
        "id": "daPCMpikv7lT",
        "outputId": "5cd59dc2-199a-49e4-f393-271bd38ea109"
      },
      "execution_count": null,
      "outputs": [
        {
          "output_type": "execute_result",
          "data": {
            "text/plain": [
              "<matplotlib.axes._subplots.AxesSubplot at 0x7f1ad79d4c50>"
            ]
          },
          "metadata": {},
          "execution_count": 8
        },
        {
          "output_type": "display_data",
          "data": {
            "image/png": "[encoded data removed]",
            "text/plain": [
              "<Figure size 432x288 with 1 Axes>"
            ]
          },
          "metadata": {
            "needs_background": "light"
          }
        }
      ]
    },
    {
      "cell_type": "code",
      "source": [
        "plot=sm.qqplot(df['Fuel Consumption City (L/100 km)'],line=\"45\",fit=True)"
      ],
      "metadata": {
        "colab": {
          "base_uri": "https://localhost:8080/",
          "height": 279
        },
        "id": "VntXIolyxK2p",
        "outputId": "7aa702e3-d6dc-49d1-9f22-d7e119850b9b"
      },
      "execution_count": null,
      "outputs": [
        {
          "output_type": "display_data",
          "data": {
            "image/png": "[encoded data removed]",
            "text/plain": [
              "<Figure size 432x288 with 1 Axes>"
            ]
          },
          "metadata": {
            "needs_background": "light"
          }
        }
      ]
    },
    {
      "cell_type": "code",
      "source": [
        "plt.figure(figsize=(15,5))\n",
        "sns.boxplot(x='Fuel Consumption City (L/100 km)', data=df)"
      ],
      "metadata": {
        "colab": {
          "base_uri": "https://localhost:8080/",
          "height": 352
        },
        "id": "NmmZ_5GwyINu",
        "outputId": "21071d41-3530-4631-fd6e-4ee7343526dc"
      },
      "execution_count": null,
      "outputs": [
        {
          "output_type": "execute_result",
          "data": {
            "text/plain": [
              "<matplotlib.axes._subplots.AxesSubplot at 0x7f1ad6da8710>"
            ]
          },
          "metadata": {},
          "execution_count": 12
        },
        {
          "output_type": "display_data",
          "data": {
            "image/png": "[encoded data removed]",
            "text/plain": [
              "<Figure size 1080x360 with 1 Axes>"
            ]
          },
          "metadata": {
            "needs_background": "light"
          }
        }
      ]
    },
    {
      "cell_type": "markdown",
      "source": [
        "The plots indicate that distribution is not normally distributed. Now carry out statistical tests 1. Chi2 test 2. Anderson test\n",
        "Null hypothesis- Data is from normal distribution\n",
        "Alternate Hypothesis- Data is not normally distributed"
      ],
      "metadata": {
        "id": "n_vrNJHGxoDC"
      }
    },
    {
      "cell_type": "code",
      "source": [
        "chi2,p=stats.normaltest(df['Fuel Consumption City (L/100 km)'])\n",
        "print('Chi2=%.2f,pvalue=%.3f' %(chi2,p))"
      ],
      "metadata": {
        "colab": {
          "base_uri": "https://localhost:8080/"
        },
        "id": "TwvC6Trqx6h1",
        "outputId": "f9b32cc0-905e-45ec-e4c3-c4bca90017b0"
      },
      "execution_count": null,
      "outputs": [
        {
          "output_type": "stream",
          "name": "stdout",
          "text": [
            "Chi2=813.13,pvalue=0.000\n"
          ]
        }
      ]
    },
    {
      "cell_type": "code",
      "source": [
        "stats.anderson(df['Fuel Consumption City (L/100 km)'],dist='norm')"
      ],
      "metadata": {
        "colab": {
          "base_uri": "https://localhost:8080/"
        },
        "id": "rTrsww9i86xs",
        "outputId": "b30814f0-763b-4bc8-9f5f-a6bc8d8489c7"
      },
      "execution_count": null,
      "outputs": [
        {
          "output_type": "execute_result",
          "data": {
            "text/plain": [
              "AndersonResult(statistic=64.20399153553808, critical_values=array([0.576, 0.656, 0.787, 0.918, 1.091]), significance_level=array([15. , 10. ,  5. ,  2.5,  1. ]))"
            ]
          },
          "metadata": {},
          "execution_count": 18
        }
      ]
    },
    {
      "cell_type": "code",
      "source": [
        "from scipy import stats\n",
        "_ , l = stats.boxcox(df['Fuel Consumption City (L/100 km)'])"
      ],
      "metadata": {
        "id": "AQrC2H-Q2CLk"
      },
      "execution_count": null,
      "outputs": []
    },
    {
      "cell_type": "code",
      "source": [
        "print (\"lamda     : \" ,l)"
      ],
      "metadata": {
        "colab": {
          "base_uri": "https://localhost:8080/"
        },
        "id": "Kzz-xVaJ6cg1",
        "outputId": "e67bb330-ff1a-478e-9a56-af9922d4a2be"
      },
      "execution_count": null,
      "outputs": [
        {
          "output_type": "stream",
          "name": "stdout",
          "text": [
            "lamda     :  0.17302331040769608\n"
          ]
        }
      ]
    },
    {
      "cell_type": "markdown",
      "source": [
        "![Lambda.png](data:image/png;base64,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)"
      ],
      "metadata": {
        "id": "oiKs8-Ns67Qo"
      }
    },
    {
      "cell_type": "markdown",
      "source": [
        "As Lambda is over 0 apply square root to transform"
      ],
      "metadata": {
        "id": "XvxLS3qX8Bi_"
      }
    },
    {
      "cell_type": "code",
      "source": [
        "sns.distplot(df['Fuel Consumption City (L/100 km)'].apply(lambda x: np.power(x, l)), hist=True)"
      ],
      "metadata": {
        "colab": {
          "base_uri": "https://localhost:8080/",
          "height": 297
        },
        "id": "4vWFfYSa793K",
        "outputId": "548253a6-2acd-4504-bc54-e442baaef9c9"
      },
      "execution_count": null,
      "outputs": [
        {
          "output_type": "execute_result",
          "data": {
            "text/plain": [
              "<matplotlib.axes._subplots.AxesSubplot at 0x7f1ad6a94510>"
            ]
          },
          "metadata": {},
          "execution_count": 19
        },
        {
          "output_type": "display_data",
          "data": {
            "image/png": "[encoded data removed]",
            "text/plain": [
              "<Figure size 432x288 with 1 Axes>"
            ]
          },
          "metadata": {
            "needs_background": "light"
          }
        }
      ]
    },
    {
      "cell_type": "markdown",
      "source": [
        "Observe the transformed plots and it is closer to normal distribution"
      ],
      "metadata": {
        "id": "8b2gu2SM9-De"
      }
    },
    {
      "cell_type": "code",
      "source": [
        ""
      ],
      "metadata": {
        "id": "F1lvSFF899hg"
      },
      "execution_count": null,
      "outputs": []
    }
  ]
}